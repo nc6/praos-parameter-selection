{
 "cells": [
  {
   "cell_type": "markdown",
   "metadata": {},
   "source": [
    "# Introduction\n",
    "\n",
    "Firstly we define some of the basic definitions from the Praos paper\n",
    "\n",
    "## Parameters\n",
    "\n",
    "- `f` is the active slot coefficient, between 0 and 1\n",
    "- `delta` is the maximum permitted message delay, expressed in _slots for the whole chain to be sent_.\n",
    "- `alpha` is the minimum honest stake over the lifetime of the system\n",
    "- `k` is the security parameter, e.g. the number of blocks deep a transaction must be to be immutable (or the     maximum permitted rollback)"
   ]
  },
  {
   "cell_type": "code",
   "execution_count": 3,
   "metadata": {},
   "outputs": [],
   "source": [
    "# c is a function of f and delta\n",
    "def c(f, delta):\n",
    "    return f*(1-f)^delta\n",
    "\n",
    "# tau is a function of f, delta and alpha\n",
    "def tau(f, delta, alpha):\n",
    "    return c(f, delta)*alpha / 4"
   ]
  },
  {
   "cell_type": "markdown",
   "metadata": {},
   "source": [
    "# Window size "
   ]
  },
  {
   "cell_type": "code",
   "execution_count": 16,
   "metadata": {},
   "outputs": [
    {
     "data": {
      "application/vnd.jupyter.widget-view+json": {
       "model_id": "d59af7a9e5674f7e8689b59860deffbc",
       "version_major": 2,
       "version_minor": 0
      },
      "text/plain": [
       "SW50ZXJhY3RpdmUgZnVuY3Rpb24gPGZ1bmN0aW9uIHdzaXplX3Bsb3QgYXQgMHg3ZjI3NTY0N2VmNTA+IHdpdGggMiB3aWRnZXRzCiAgZGVsdGE6IEludFNsaWRlcih2YWx1ZT0xMCwgZGVzY3LigKY=\n"
      ]
     },
     "metadata": {},
     "output_type": "display_data"
    }
   ],
   "source": [
    "# wsize*k is the number of slots required for a block to be guaranteed stable\n",
    "def wsize(f, delta, alpha):\n",
    "    return 1/tau(f, delta, alpha)\n",
    "\n",
    "from sage.repl.ipython_kernel.interact import interact\n",
    "\n",
    "@interact\n",
    "def wsize_plot(delta=(1,20), alpha=(0.5, 1)):\n",
    "    plot(lambda f: wsize(f, delta, alpha), (0.01, 0.5)).show()\n",
    "    "
   ]
  },
  {
   "cell_type": "markdown",
   "metadata": {},
   "source": [
    "# Reframing\n",
    "\n",
    "We can reframe this in terms of window size to compute allowed parameters, under conditions given in the Praos paper."
   ]
  },
  {
   "cell_type": "code",
   "execution_count": 37,
   "metadata": {},
   "outputs": [],
   "source": [
    "# Common prefix criterion\n",
    "prop_cp(f, delta, alpha) = (alpha * (1-f)^delta > 1/2)\n",
    "\n",
    "# Chain growth criterion, for a given window size s\n",
    "prop_cg(f, delta, alpha, p_tau) = (c(f, delta) > 4*p_tau / alpha)"
   ]
  },
  {
   "cell_type": "code",
   "execution_count": 60,
   "metadata": {},
   "outputs": [
    {
     "data": {
      "application/vnd.jupyter.widget-view+json": {
       "model_id": "c631512ede3e474fbee3705f3d6c1505",
       "version_major": 2,
       "version_minor": 0
      },
      "text/plain": [
       "SW50ZXJhY3RpdmUgZnVuY3Rpb24gPGZ1bmN0aW9uIHZhbGlkX2YgYXQgMHg3ZjI3M2IxYjVhNTA+IHdpdGggMyB3aWRnZXRzCiAgZGVsdGE6IEludFNsaWRlcih2YWx1ZT0xMCwgZGVzY3JpcHTigKY=\n"
      ]
     },
     "metadata": {},
     "output_type": "display_data"
    }
   ],
   "source": [
    "@interact\n",
    "def valid_f(delta=(1,20), alpha=(0.5,1), wsize=(20, 200)):\n",
    "    f=var('f')\n",
    "    prop_cp1(f)=prop_cp(f, delta, alpha)\n",
    "    prop_cg1(f)=prop_cg(f, delta, alpha, 1/wsize)\n",
    "    soln = solve([prop_cp1, prop_cg1], f)\n",
    "    show(soln)   "
   ]
  },
  {
   "cell_type": "code",
   "execution_count": 86,
   "metadata": {},
   "outputs": [
    {
     "data": {
      "application/vnd.jupyter.widget-view+json": {
       "model_id": "1b400a020b204b5caf3c422aca7d0567",
       "version_major": 2,
       "version_minor": 0
      },
      "text/plain": [
       "SW50ZXJhY3RpdmUgZnVuY3Rpb24gPGZ1bmN0aW9uIGZfc2l6ZV9yZWdpb24gYXQgMHg3ZjI3M2IyMjIxNTA+IHdpdGggMiB3aWRnZXRzCiAgZGVsdGE6IEludFNsaWRlcih2YWx1ZT0xMCwgZGXigKY=\n"
      ]
     },
     "metadata": {},
     "output_type": "display_data"
    }
   ],
   "source": [
    "@interact\n",
    "def f_size_region(delta=(1,20), alpha=(0.5,1)):\n",
    "    prop_cp1(f, p_wsize)= prop_cp(f, delta, alpha)\n",
    "    prop_cg1(f, p_wsize) = prop_cg(f, delta, alpha, 1/p_wsize)\n",
    "    region_plot([prop_cp1], (f, 0.05, 0.5), (p_wsize, 20, 200)).show()"
   ]
  }
 ],
 "metadata": {
  "kernelspec": {
   "display_name": "SageMath 8.9",
   "language": "sagemath",
   "name": "sagemath"
  },
  "language_info": {
   "codemirror_mode": {
    "name": "ipython",
    "version": 2
   },
   "file_extension": ".py",
   "mimetype": "text/x-python",
   "name": "python",
   "nbconvert_exporter": "python",
   "pygments_lexer": "ipython2",
   "version": "2.7.17"
  }
 },
 "nbformat": 4,
 "nbformat_minor": 2
}
